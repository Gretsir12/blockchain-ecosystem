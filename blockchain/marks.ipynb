{
 "cells": [
  {
   "cell_type": "markdown",
   "id": "6a749fd9",
   "metadata": {},
   "source": [
    "Registration validate\n",
    "\n",
    "Step 1:\n",
    "Get data from user\n",
    "\n",
    "Step 2:\n",
    "Send email with 6-digit code for confirm email\n",
    "\n",
    "Step 3:\n",
    "Receive code from user and --> If code validate put user's data into database and redirect user to main page ELSE: Send answer with message about incorrect code and "
   ]
  },
  {
   "cell_type": "code",
   "execution_count": null,
   "id": "6761608a",
   "metadata": {
    "vscode": {
     "languageId": "plaintext"
    }
   },
   "outputs": [],
   "source": [
    "import re\n",
    "import sqlite3\n",
    "\n",
    "db = sqlite3.connect('users.db') #creating database"
   ]
  },
  {
   "cell_type": "markdown",
   "id": "229fde1a",
   "metadata": {},
   "source": [
    "Problem 1\n",
    "\n",
    "How to send email using python??? "
   ]
  },
  {
   "cell_type": "code",
   "execution_count": null,
   "id": "eb3bc6dc",
   "metadata": {
    "vscode": {
     "languageId": "plaintext"
    }
   },
   "outputs": [],
   "source": [
    "\"\"\"import smtplib #i can use this library\"\"\"\n",
    "\n",
    "FROM = example@example.com\n",
    "TO = example1@example1.com\n",
    "\n",
    "SUBJECT = 'Email confirm'\n",
    "\n",
    "TEXT = 'Hello <username>! For using CloudBox you need to confirm your Email'\n",
    "\n",
    "SERVER\n",
    "\n",
    "def send_mail(FROM,TO,SUBJECT,TEXT,SERVER):\n",
    "    import smtplib\n",
    "    message = \"\"\"\\\n",
    "        From: %s\n",
    "        To: %s\n",
    "        Subject: %s\n",
    "        %s\n",
    "        \"\"\" % (FROM, \", \".join(TO), SUBJECT, TEXT)\n",
    "    # Send the mail\n",
    "    SERVER = smtplib.SMTP(SERVER)\n",
    "    SERVER.sendmail(FROM, TO, message)\n",
    "    SERVER.quit()\n",
    "\n",
    "send_mail(FROM, TO, SUBJECT, TEXT, SERVER)"
   ]
  }
 ],
 "metadata": {
  "language_info": {
   "name": "python"
  }
 },
 "nbformat": 4,
 "nbformat_minor": 5
}
