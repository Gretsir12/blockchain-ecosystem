{
 "cells": [
  {
   "cell_type": "markdown",
   "id": "6a749fd9",
   "metadata": {},
   "source": [
    "Registration validate\n",
    "\n",
    "Step 1:\n",
    "Get data from user\n",
    "\n",
    "Step 2:\n",
    "Send email with 6-digit code for confirm email\n",
    "\n",
    "Step 3:\n",
    "Receive code from user and --> If code validate put user's data into database and redirect user to main page ELSE: Send answer with message about incorrect code and "
   ]
  },
  {
   "cell_type": "code",
   "execution_count": null,
   "id": "6761608a",
   "metadata": {
    "vscode": {
     "languageId": "plaintext"
    }
   },
   "outputs": [],
   "source": [
    "import re\n",
    "import sqlite3\n",
    "\n",
    "db = sqlite3.connect('users.db') #creating database"
   ]
  },
  {
   "cell_type": "markdown",
   "id": "229fde1a",
   "metadata": {},
   "source": [
    "Problem 1\n",
    "\n",
    "How to send email using python??? "
   ]
  },
  {
   "cell_type": "code",
   "execution_count": null,
   "id": "b3b59ca0",
   "metadata": {},
   "outputs": [],
   "source": [
    "import smtplib\n",
    "from email.mime.text import MIMEText\n",
    "from email.mime.multipart import MIMEMultipart\n",
    "\n",
    "# Email configuration\n",
    "smtp_server = 'smtp.gmail.com'\n",
    "smtp_port = 587\n",
    "smtp_user = 'your@email.com'  # Your email address\n",
    "smtp_password = 'your_app_password'  # App password or email password\n",
    "\n",
    "from_email = smtp_user\n",
    "to_email = 'recipient@email.com'\n",
    "subject = 'Test Email from Python'\n",
    "body = 'Hello! This is a test email sent from Python.'\n",
    "\n",
    "# Create the email message\n",
    "msg = MIMEMultipart()\n",
    "msg['From'] = from_email\n",
    "msg['To'] = to_email\n",
    "msg['Subject'] = subject\n",
    "msg.attach(MIMEText(body, 'plain'))\n",
    "\n",
    "# Send the email\n",
    "with smtplib.SMTP(smtp_server, smtp_port) as server:\n",
    "    server.starttls()  # Secure the connection\n",
    "    server.login(smtp_user, smtp_password)\n",
    "    server.send_message(msg)\n",
    "    print('Email sent successfully!')"
   ]
  },
  {
   "cell_type": "markdown",
   "id": "3424001a",
   "metadata": {},
   "source": [
    "## How to Send Email Using Python\n",
    "1. Import the `smtplib` and `email.mime` libraries.\n",
    "2. Set up your SMTP server details (address, port, login, password).\n",
    "3. Create the email message (subject, body, from, to).\n",
    "4. Connect to the SMTP server and send the message.\n",
    "5. Close the connection.\n",
    "\n",
    "Below is a working code example."
   ]
  },
  {
   "cell_type": "code",
   "execution_count": null,
   "id": "eb3bc6dc",
   "metadata": {
    "vscode": {
     "languageId": "plaintext"
    }
   },
   "outputs": [],
   "source": [
    "\"\"\"import smtplib #i can use this library\"\"\"\n",
    "\n",
    "FROM = example@example.com\n",
    "TO = example1@example1.com\n",
    "\n",
    "SUBJECT = 'Email confirm'\n",
    "\n",
    "TEXT = 'Hello <username>! For using CloudBox you need to confirm your Email'\n",
    "\n",
    "SERVER\n",
    "\n",
    "def send_mail(FROM,TO,SUBJECT,TEXT,SERVER):\n",
    "    import smtplib\n",
    "    message = \"\"\"\\\n",
    "        From: %s\n",
    "        To: %s\n",
    "        Subject: %s\n",
    "        %s\n",
    "        \"\"\" % (FROM, \", \".join(TO), SUBJECT, TEXT)\n",
    "    # Send the mail\n",
    "    SERVER = smtplib.SMTP(SERVER)\n",
    "    SERVER.sendmail(FROM, TO, message)\n",
    "    SERVER.quit()\n",
    "\n",
    "send_mail(FROM, TO, SUBJECT, TEXT, SERVER)"
   ]
  },
  {
   "cell_type": "markdown",
   "id": "667a12fd",
   "metadata": {},
   "source": [
    "### Sending Email in Python: Step-by-Step\n",
    "1. Import the `smtplib` and `email.mime` libraries for email creation and sending.\n",
    "2. Set up your SMTP server details (address, port, login, password).\n",
    "3. Create the email message (subject, body, from, to) using `MIMEText` or `MIMEMultipart`.\n",
    "4. Connect to the SMTP server, login, and send the message using `send_message`.\n",
    "5. Always use `starttls()` for security if your server supports it.\n",
    "6. Never hardcode your real password in code—use environment variables or app passwords.\n",
    "\n",
    "Below is a practical example you can use and adapt."
   ]
  },
  {
   "cell_type": "code",
   "execution_count": null,
   "id": "529da6df",
   "metadata": {},
   "outputs": [],
   "source": [
    "import smtplib\n",
    "from email.mime.text import MIMEText\n",
    "from email.mime.multipart import MIMEMultipart\n",
    "\n",
    "# Email configuration\n",
    "smtp_server = 'smtp.gmail.com'\n",
    "smtp_port = 587\n",
    "smtp_user = 'your@email.com'  # Your email address\n",
    "smtp_password = 'your_app_password'  # App password or email password\n",
    "\n",
    "from_email = smtp_user\n",
    "to_email = 'recipient@email.com'\n",
    "subject = 'Test Email from Python'\n",
    "body = 'Hello! This is a test email sent from Python.'\n",
    "\n",
    "# Create the email message\n",
    "msg = MIMEMultipart()\n",
    "msg['From'] = from_email\n",
    "msg['To'] = to_email\n",
    "msg['Subject'] = subject\n",
    "msg.attach(MIMEText(body, 'plain'))\n",
    "\n",
    "# Send the email\n",
    "with smtplib.SMTP(smtp_server, smtp_port) as server:\n",
    "    server.starttls()  # Secure the connection\n",
    "    server.login(smtp_user, smtp_password)\n",
    "    server.send_message(msg)\n",
    "    print('Email sent successfully!')"
   ]
  }
 ],
 "metadata": {
  "language_info": {
   "name": "python"
  }
 },
 "nbformat": 4,
 "nbformat_minor": 5
}
